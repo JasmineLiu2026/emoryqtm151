{
 "cells": [
  {
   "attachments": {},
   "cell_type": "markdown",
   "metadata": {},
   "source": [
    "# <span style=\"color:darkblue\"> QTM 151 - Quiz 3 </span>"
   ]
  },
  {
   "attachments": {},
   "cell_type": "markdown",
   "metadata": {},
   "source": [
    "## Try to submit as an HTML file"
   ]
  },
  {
   "attachments": {},
   "cell_type": "markdown",
   "metadata": {},
   "source": [
    "<font size=\"5\"> \n",
    "\n",
    "Print your name below"
   ]
  },
  {
   "cell_type": "code",
   "execution_count": 41,
   "metadata": {},
   "outputs": [
    {
     "name": "stdout",
     "output_type": "stream",
     "text": [
      "Jasmine Liu\n"
     ]
    }
   ],
   "source": [
    "# Write your answer here\n",
    "print(\"Jasmine Liu\")"
   ]
  },
  {
   "attachments": {},
   "cell_type": "markdown",
   "metadata": {},
   "source": [
    "<font size = \"5\" >\n",
    "This quiz is open book \n",
    "\n",
    "- You can use the lecture notes\n",
    "- You will get partial credit for attempting the questions\n",
    "- To get full credit, the code should run as intended\n",
    "- You should <span style=\"color:red\"> NOT </span> communicate with other students\n",
    "\n",
    "Print the following message: <br>\n",
    "\n",
    "\"I will abide by Emory's code of conduct\"\n"
   ]
  },
  {
   "cell_type": "code",
   "execution_count": 42,
   "metadata": {},
   "outputs": [
    {
     "name": "stdout",
     "output_type": "stream",
     "text": [
      "I will abide by Emory's code of conduct\n"
     ]
    }
   ],
   "source": [
    "# Write your answer here:\n",
    "print(\"I will abide by Emory's code of conduct\")\n"
   ]
  },
  {
   "attachments": {},
   "cell_type": "markdown",
   "metadata": {},
   "source": [
    "<font size = \"5\">\n",
    "\n",
    "Import the libraries \"numpy\" and \"pandas\""
   ]
  },
  {
   "cell_type": "code",
   "execution_count": 43,
   "metadata": {},
   "outputs": [],
   "source": [
    "# Write your answer here\n",
    "import numpy as np\n",
    "import pandas as pd"
   ]
  },
  {
   "attachments": {},
   "cell_type": "markdown",
   "metadata": {},
   "source": [
    "\n",
    "<font size = \"5\">\n",
    "\n",
    "(a) Replace the values of a column\n",
    "\n",
    "<font size = \"3\">\n",
    "\n",
    "- Import the \"data_raw/sprint_results.csv\" file\n",
    "- Replace the values \"R\" and \"N\" with ```np.nan``` (missing value) <br>\n",
    "in the column \"positionText\"\n",
    "- Create a new column \"positionNumeric\" that converts <br>\n",
    "the modified \"positionText\" column from string to numeric <br>\n",
    "using ```pd.to_numeric()```\n",
    "\n",
    "HINT: See the example in Lecture 13"
   ]
  },
  {
   "cell_type": "code",
   "execution_count": 44,
   "metadata": {},
   "outputs": [],
   "source": [
    "# Write your own code\n",
    "sprint_results = pd.read_csv(\"data_raw/sprint_results.csv\")\n",
    "subset      = sprint_results.query(\"positionText.str.isnumeric() == False\")\n",
    "list_unique = pd.unique(subset[\"positionText\"])\n",
    "replaced = sprint_results[\"positionText\"].replace((\"R\", \"N\"), np.nan)\n",
    "sprint_results[\"positionNumeric\"] = pd.to_numeric(replaced)"
   ]
  },
  {
   "attachments": {},
   "cell_type": "markdown",
   "metadata": {},
   "source": [
    "<font size = \"5\">\n",
    "\n",
    "(b) Recode a numeric colum\n",
    "\n",
    "<font size = \"3\">\n",
    "\n",
    "- Import the \"data_raw/races.csv\" file\n",
    "- Recode the \"year\" column into a new column \"year_brackets\" <br>\n",
    "with the following categories\n",
    "\n",
    "$\\qquad$ ``` [\"1950-1974\",\"1975-1999\",\"2000-onwards\"] ```\n",
    "\n",
    "$\\qquad$ HINT: Use the \"pd.cut()\" command."
   ]
  },
  {
   "cell_type": "code",
   "execution_count": 50,
   "metadata": {},
   "outputs": [],
   "source": [
    "# Write your own code\n",
    "races_raw = pd.read_csv(\"data_raw/races.csv\")\n",
    "bins_a = [1949,1974,1999,float(\"inf\")]\n",
    "labels_a = [\"1950-1974\", \"1975-1999\", \"2000-onwards\"]\n",
    "races_raw[\"year_brackets\"] = pd.cut(races_raw[\"year\"],\n",
    "                           bins = bins_a,\n",
    "                           right = True,\n",
    "                           labels = labels_a)"
   ]
  },
  {
   "attachments": {},
   "cell_type": "markdown",
   "metadata": {},
   "source": [
    "<font size = \"5\">\n",
    "\n",
    "(c) Aggregate and query\n",
    "\n",
    "<font size = \"3\">\n",
    "\n",
    "- Import the \"data_raw/sprint_results.csv\" file\n",
    "- Subset the observations for 'constructorId == 3' using ```.query()```\n",
    "- Obtain the sum of \"laps\" by \"driverId\" <br> \n",
    " using ``` .groupby().agg() ```\n",
    "- Subset the drivers with a sum of laps $\\ge 40$\n",
    "- Store the results of all these operations in a dataframe <br>\n",
    "```sprint_results_agg ```"
   ]
  },
  {
   "cell_type": "code",
   "execution_count": 53,
   "metadata": {},
   "outputs": [
    {
     "data": {
      "text/html": [
       "<div>\n",
       "<style scoped>\n",
       "    .dataframe tbody tr th:only-of-type {\n",
       "        vertical-align: middle;\n",
       "    }\n",
       "\n",
       "    .dataframe tbody tr th {\n",
       "        vertical-align: top;\n",
       "    }\n",
       "\n",
       "    .dataframe thead th {\n",
       "        text-align: right;\n",
       "    }\n",
       "</style>\n",
       "<table border=\"1\" class=\"dataframe\">\n",
       "  <thead>\n",
       "    <tr style=\"text-align: right;\">\n",
       "      <th></th>\n",
       "      <th>sum</th>\n",
       "    </tr>\n",
       "    <tr>\n",
       "      <th>driverId</th>\n",
       "      <th></th>\n",
       "    </tr>\n",
       "  </thead>\n",
       "  <tbody>\n",
       "    <tr>\n",
       "      <th>849</th>\n",
       "      <td>127</td>\n",
       "    </tr>\n",
       "    <tr>\n",
       "      <th>847</th>\n",
       "      <td>59</td>\n",
       "    </tr>\n",
       "    <tr>\n",
       "      <th>848</th>\n",
       "      <td>56</td>\n",
       "    </tr>\n",
       "  </tbody>\n",
       "</table>\n",
       "</div>"
      ],
      "text/plain": [
       "          sum\n",
       "driverId     \n",
       "849       127\n",
       "847        59\n",
       "848        56"
      ]
     },
     "execution_count": 53,
     "metadata": {},
     "output_type": "execute_result"
    }
   ],
   "source": [
    "# Write your own code\n",
    "subset = sprint_results.query('constructorId ==3')\n",
    "sprint_results_agg = (subset.groupby(\"driverId\")\n",
    "                   .agg(sum = ('laps', 'sum'))\n",
    "                    .sort_values(\"sum\", ascending = False)\n",
    "                    .query(\"sum >= 40\"))\n",
    "pd.DataFrame(sprint_results_agg)"
   ]
  },
  {
   "attachments": {},
   "cell_type": "markdown",
   "metadata": {},
   "source": [
    "<font size = \"5\">\n",
    "\n",
    "(d) Aggregate and sort\n",
    "\n",
    "<font size = \"3\">\n",
    "\n",
    "- Import the \"data_raw/sprint_results.csv\" file\n",
    "- Obtain the sum of \"laps\" by \"driverId\" <br> \n",
    "using ``` .groupby().agg() ```\n",
    "- Sort the drivers in descending order using of <br>\n",
    "the sum of laps using ``` .sort_values() ```"
   ]
  },
  {
   "cell_type": "code",
   "execution_count": 47,
   "metadata": {},
   "outputs": [],
   "source": [
    "# Write your own code\n",
    "sprint_results_agg = (subset.groupby(\"driverId\")\n",
    "                   .agg(sum = ('laps', 'sum'))\n",
    "                    .sort_values(\"sum\", ascending = False))\n"
   ]
  },
  {
   "attachments": {},
   "cell_type": "markdown",
   "metadata": {},
   "source": [
    "<font size = \"5\">\n",
    "\n",
    "(e) Rename column\n",
    "\n",
    "<font size = \"3\">\n",
    "\n",
    "- Import the \"data_raw/sprint_results.csv\" file\n",
    "- Rename the column \"points\" to \"points_sprint\"\n",
    "\n",
    "HINT: Create a dictionary and use ```.rename(columns = ...)``` <br>\n",
    "See Lecture 15"
   ]
  },
  {
   "cell_type": "code",
   "execution_count": 48,
   "metadata": {},
   "outputs": [],
   "source": [
    "# Write your own code\n",
    "dict_rename_sprint = {\"points\": \"points_sprint\"}\n",
    "sprint_rename = sprint_results.rename(columns = dict_rename_sprint)\n"
   ]
  },
  {
   "attachments": {},
   "cell_type": "markdown",
   "metadata": {},
   "source": [
    "<font size = \"5\">\n",
    "\n",
    "(f) Merge dataset\n",
    "\n",
    "<font size = \"3\">\n",
    "\n",
    "- Import the \"data_raw/sprint_results.csv\" and <br>\n",
    "\"data_raw/constructors.csv\" files\n",
    "- Create a new dataset with  ```pd.merge()``` using <br>\n",
    "\"sprint_results\" as the primary dataset, and <br>\n",
    "\"constructors\" as the secondary dataset, merging on <br>\n",
    "the column \"constructorId\"\n",
    "- To get full points **ONLY** merge the \"url\" column <br>\n",
    "from the secondary dataset (not all the columns)\n",
    "\n",
    "HINT: Use ```[[...]]``` to extract a subset of columns <br>\n",
    "from the secondary dataset before merging, including the <br>\n",
    "\"constructorId\" column"
   ]
  },
  {
   "cell_type": "code",
   "execution_count": 49,
   "metadata": {},
   "outputs": [],
   "source": [
    "# Write your own code\n",
    "constructor = pd.read_csv(\"data_raw/constructors.csv\")\n",
    "sprint_constructor_merge = pd.merge(sprint_results,\n",
    "                         constructor[[\"constructorId\", \"url\"]],\n",
    "                         on = \"constructorId\",\n",
    "                         how = \"left\")\n"
   ]
  }
 ],
 "metadata": {
  "kernelspec": {
   "display_name": "base",
   "language": "python",
   "name": "python3"
  },
  "language_info": {
   "codemirror_mode": {
    "name": "ipython",
    "version": 3
   },
   "file_extension": ".py",
   "mimetype": "text/x-python",
   "name": "python",
   "nbconvert_exporter": "python",
   "pygments_lexer": "ipython3",
   "version": "3.9.13"
  },
  "orig_nbformat": 4,
  "vscode": {
   "interpreter": {
    "hash": "45fc1f684f6f416f40889115beff3ddf69879b64cf4bfee48cb72a61e9d15d1a"
   }
  }
 },
 "nbformat": 4,
 "nbformat_minor": 2
}
